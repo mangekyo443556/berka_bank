{
 "cells": [
  {
   "cell_type": "markdown",
   "metadata": {},
   "source": [
    "<h1>Berka bank</h1><hr>"
   ]
  },
  {
   "cell_type": "code",
   "execution_count": 67,
   "metadata": {},
   "outputs": [],
   "source": [
    "import pandas as pd\n",
    "import numpy as np\n",
    "import warnings\n",
    "import matplotlib.pyplot as plt\n",
    "warnings.filterwarnings('ignore')\n",
    "import seaborn as sns\n",
    "from scipy import stats\n",
    "from scipy.stats import skew, kurtosis"
   ]
  },
  {
   "cell_type": "markdown",
   "metadata": {},
   "source": [
    "<h3 style='color:orange'>Extract data</h3>"
   ]
  },
  {
   "cell_type": "code",
   "execution_count": 4,
   "metadata": {},
   "outputs": [],
   "source": [
    "df_account = pd.read_csv('account.asc', sep=';')\n",
    "df_card = pd.read_csv('card.asc', sep=';')\n",
    "df_client = pd.read_csv('client.asc', sep=';')\n",
    "df_disp = pd.read_csv('disp.asc', sep=';')\n",
    "df_district = pd.read_csv('district.asc', sep=';')\n",
    "df_loan= pd.read_csv('loan.asc', sep=';')\n",
    "df_order= pd.read_csv('order.asc', sep=';')\n",
    "df_trans = pd.read_csv('trans.asc', sep=';')"
   ]
  },
  {
   "cell_type": "markdown",
   "metadata": {},
   "source": [
    "<h3 style='color:orange'>Exploratory data analysis</h3>"
   ]
  },
  {
   "cell_type": "code",
   "execution_count": 5,
   "metadata": {},
   "outputs": [
    {
     "data": {
      "text/html": [
       "<div>\n",
       "<style scoped>\n",
       "    .dataframe tbody tr th:only-of-type {\n",
       "        vertical-align: middle;\n",
       "    }\n",
       "\n",
       "    .dataframe tbody tr th {\n",
       "        vertical-align: top;\n",
       "    }\n",
       "\n",
       "    .dataframe thead th {\n",
       "        text-align: right;\n",
       "    }\n",
       "</style>\n",
       "<table border=\"1\" class=\"dataframe\">\n",
       "  <thead>\n",
       "    <tr style=\"text-align: right;\">\n",
       "      <th></th>\n",
       "      <th>A1</th>\n",
       "      <th>A2</th>\n",
       "      <th>A3</th>\n",
       "      <th>A4</th>\n",
       "      <th>A5</th>\n",
       "      <th>A6</th>\n",
       "      <th>A7</th>\n",
       "      <th>A8</th>\n",
       "      <th>A9</th>\n",
       "      <th>A10</th>\n",
       "      <th>A11</th>\n",
       "      <th>A12</th>\n",
       "      <th>A13</th>\n",
       "      <th>A14</th>\n",
       "      <th>A15</th>\n",
       "      <th>A16</th>\n",
       "    </tr>\n",
       "  </thead>\n",
       "  <tbody>\n",
       "    <tr>\n",
       "      <th>0</th>\n",
       "      <td>1</td>\n",
       "      <td>Hl.m. Praha</td>\n",
       "      <td>Prague</td>\n",
       "      <td>1204953</td>\n",
       "      <td>0</td>\n",
       "      <td>0</td>\n",
       "      <td>0</td>\n",
       "      <td>1</td>\n",
       "      <td>1</td>\n",
       "      <td>100.0</td>\n",
       "      <td>12541</td>\n",
       "      <td>0.29</td>\n",
       "      <td>0.43</td>\n",
       "      <td>167</td>\n",
       "      <td>85677</td>\n",
       "      <td>99107</td>\n",
       "    </tr>\n",
       "    <tr>\n",
       "      <th>1</th>\n",
       "      <td>2</td>\n",
       "      <td>Benesov</td>\n",
       "      <td>central Bohemia</td>\n",
       "      <td>88884</td>\n",
       "      <td>80</td>\n",
       "      <td>26</td>\n",
       "      <td>6</td>\n",
       "      <td>2</td>\n",
       "      <td>5</td>\n",
       "      <td>46.7</td>\n",
       "      <td>8507</td>\n",
       "      <td>1.67</td>\n",
       "      <td>1.85</td>\n",
       "      <td>132</td>\n",
       "      <td>2159</td>\n",
       "      <td>2674</td>\n",
       "    </tr>\n",
       "    <tr>\n",
       "      <th>2</th>\n",
       "      <td>3</td>\n",
       "      <td>Beroun</td>\n",
       "      <td>central Bohemia</td>\n",
       "      <td>75232</td>\n",
       "      <td>55</td>\n",
       "      <td>26</td>\n",
       "      <td>4</td>\n",
       "      <td>1</td>\n",
       "      <td>5</td>\n",
       "      <td>41.7</td>\n",
       "      <td>8980</td>\n",
       "      <td>1.95</td>\n",
       "      <td>2.21</td>\n",
       "      <td>111</td>\n",
       "      <td>2824</td>\n",
       "      <td>2813</td>\n",
       "    </tr>\n",
       "    <tr>\n",
       "      <th>3</th>\n",
       "      <td>4</td>\n",
       "      <td>Kladno</td>\n",
       "      <td>central Bohemia</td>\n",
       "      <td>149893</td>\n",
       "      <td>63</td>\n",
       "      <td>29</td>\n",
       "      <td>6</td>\n",
       "      <td>2</td>\n",
       "      <td>6</td>\n",
       "      <td>67.4</td>\n",
       "      <td>9753</td>\n",
       "      <td>4.64</td>\n",
       "      <td>5.05</td>\n",
       "      <td>109</td>\n",
       "      <td>5244</td>\n",
       "      <td>5892</td>\n",
       "    </tr>\n",
       "    <tr>\n",
       "      <th>4</th>\n",
       "      <td>5</td>\n",
       "      <td>Kolin</td>\n",
       "      <td>central Bohemia</td>\n",
       "      <td>95616</td>\n",
       "      <td>65</td>\n",
       "      <td>30</td>\n",
       "      <td>4</td>\n",
       "      <td>1</td>\n",
       "      <td>6</td>\n",
       "      <td>51.4</td>\n",
       "      <td>9307</td>\n",
       "      <td>3.85</td>\n",
       "      <td>4.43</td>\n",
       "      <td>118</td>\n",
       "      <td>2616</td>\n",
       "      <td>3040</td>\n",
       "    </tr>\n",
       "    <tr>\n",
       "      <th>...</th>\n",
       "      <td>...</td>\n",
       "      <td>...</td>\n",
       "      <td>...</td>\n",
       "      <td>...</td>\n",
       "      <td>...</td>\n",
       "      <td>...</td>\n",
       "      <td>...</td>\n",
       "      <td>...</td>\n",
       "      <td>...</td>\n",
       "      <td>...</td>\n",
       "      <td>...</td>\n",
       "      <td>...</td>\n",
       "      <td>...</td>\n",
       "      <td>...</td>\n",
       "      <td>...</td>\n",
       "      <td>...</td>\n",
       "    </tr>\n",
       "    <tr>\n",
       "      <th>72</th>\n",
       "      <td>73</td>\n",
       "      <td>Opava</td>\n",
       "      <td>north Moravia</td>\n",
       "      <td>182027</td>\n",
       "      <td>17</td>\n",
       "      <td>49</td>\n",
       "      <td>12</td>\n",
       "      <td>2</td>\n",
       "      <td>7</td>\n",
       "      <td>56.4</td>\n",
       "      <td>8746</td>\n",
       "      <td>3.33</td>\n",
       "      <td>3.74</td>\n",
       "      <td>90</td>\n",
       "      <td>4355</td>\n",
       "      <td>4433</td>\n",
       "    </tr>\n",
       "    <tr>\n",
       "      <th>73</th>\n",
       "      <td>74</td>\n",
       "      <td>Ostrava - mesto</td>\n",
       "      <td>north Moravia</td>\n",
       "      <td>323870</td>\n",
       "      <td>0</td>\n",
       "      <td>0</td>\n",
       "      <td>0</td>\n",
       "      <td>1</td>\n",
       "      <td>1</td>\n",
       "      <td>100.0</td>\n",
       "      <td>10673</td>\n",
       "      <td>4.75</td>\n",
       "      <td>5.44</td>\n",
       "      <td>100</td>\n",
       "      <td>18782</td>\n",
       "      <td>18347</td>\n",
       "    </tr>\n",
       "    <tr>\n",
       "      <th>74</th>\n",
       "      <td>75</td>\n",
       "      <td>Prerov</td>\n",
       "      <td>north Moravia</td>\n",
       "      <td>138032</td>\n",
       "      <td>67</td>\n",
       "      <td>30</td>\n",
       "      <td>4</td>\n",
       "      <td>2</td>\n",
       "      <td>5</td>\n",
       "      <td>64.6</td>\n",
       "      <td>8819</td>\n",
       "      <td>5.38</td>\n",
       "      <td>5.66</td>\n",
       "      <td>99</td>\n",
       "      <td>4063</td>\n",
       "      <td>4505</td>\n",
       "    </tr>\n",
       "    <tr>\n",
       "      <th>75</th>\n",
       "      <td>76</td>\n",
       "      <td>Sumperk</td>\n",
       "      <td>north Moravia</td>\n",
       "      <td>127369</td>\n",
       "      <td>31</td>\n",
       "      <td>32</td>\n",
       "      <td>13</td>\n",
       "      <td>2</td>\n",
       "      <td>7</td>\n",
       "      <td>51.2</td>\n",
       "      <td>8369</td>\n",
       "      <td>4.73</td>\n",
       "      <td>5.88</td>\n",
       "      <td>107</td>\n",
       "      <td>3736</td>\n",
       "      <td>2807</td>\n",
       "    </tr>\n",
       "    <tr>\n",
       "      <th>76</th>\n",
       "      <td>77</td>\n",
       "      <td>Vsetin</td>\n",
       "      <td>north Moravia</td>\n",
       "      <td>148545</td>\n",
       "      <td>8</td>\n",
       "      <td>35</td>\n",
       "      <td>12</td>\n",
       "      <td>3</td>\n",
       "      <td>4</td>\n",
       "      <td>53.5</td>\n",
       "      <td>8909</td>\n",
       "      <td>4.01</td>\n",
       "      <td>5.56</td>\n",
       "      <td>113</td>\n",
       "      <td>3460</td>\n",
       "      <td>3590</td>\n",
       "    </tr>\n",
       "  </tbody>\n",
       "</table>\n",
       "<p>77 rows × 16 columns</p>\n",
       "</div>"
      ],
      "text/plain": [
       "    A1               A2               A3       A4  A5  A6  A7  A8  A9    A10  \\\n",
       "0    1      Hl.m. Praha           Prague  1204953   0   0   0   1   1  100.0   \n",
       "1    2          Benesov  central Bohemia    88884  80  26   6   2   5   46.7   \n",
       "2    3           Beroun  central Bohemia    75232  55  26   4   1   5   41.7   \n",
       "3    4           Kladno  central Bohemia   149893  63  29   6   2   6   67.4   \n",
       "4    5            Kolin  central Bohemia    95616  65  30   4   1   6   51.4   \n",
       "..  ..              ...              ...      ...  ..  ..  ..  ..  ..    ...   \n",
       "72  73            Opava    north Moravia   182027  17  49  12   2   7   56.4   \n",
       "73  74  Ostrava - mesto    north Moravia   323870   0   0   0   1   1  100.0   \n",
       "74  75           Prerov    north Moravia   138032  67  30   4   2   5   64.6   \n",
       "75  76          Sumperk    north Moravia   127369  31  32  13   2   7   51.2   \n",
       "76  77           Vsetin    north Moravia   148545   8  35  12   3   4   53.5   \n",
       "\n",
       "      A11   A12   A13  A14    A15    A16  \n",
       "0   12541  0.29  0.43  167  85677  99107  \n",
       "1    8507  1.67  1.85  132   2159   2674  \n",
       "2    8980  1.95  2.21  111   2824   2813  \n",
       "3    9753  4.64  5.05  109   5244   5892  \n",
       "4    9307  3.85  4.43  118   2616   3040  \n",
       "..    ...   ...   ...  ...    ...    ...  \n",
       "72   8746  3.33  3.74   90   4355   4433  \n",
       "73  10673  4.75  5.44  100  18782  18347  \n",
       "74   8819  5.38  5.66   99   4063   4505  \n",
       "75   8369  4.73  5.88  107   3736   2807  \n",
       "76   8909  4.01  5.56  113   3460   3590  \n",
       "\n",
       "[77 rows x 16 columns]"
      ]
     },
     "execution_count": 5,
     "metadata": {},
     "output_type": "execute_result"
    }
   ],
   "source": [
    "df_district"
   ]
  },
  {
   "cell_type": "code",
   "execution_count": 6,
   "metadata": {},
   "outputs": [],
   "source": [
    "df_account_district_merge = df_account.merge(df_district, left_on = 'district_id', right_on='A1', how = 'left')"
   ]
  },
  {
   "cell_type": "code",
   "execution_count": 7,
   "metadata": {},
   "outputs": [],
   "source": [
    "df_account_district_merge = df_account_district_merge.groupby('frequency').agg({'account_id':'nunique'}).reset_index()\n",
    "df_account_district_merge['relative_accounts'] = df_account_district_merge['account_id']/df_account_district_merge['account_id'].sum()\n",
    "df_account_district_merge = df_account_district_merge.rename({'account_id':'unique_accounts'},axis= 1)"
   ]
  },
  {
   "cell_type": "code",
   "execution_count": 8,
   "metadata": {},
   "outputs": [
    {
     "data": {
      "text/html": [
       "<div>\n",
       "<style scoped>\n",
       "    .dataframe tbody tr th:only-of-type {\n",
       "        vertical-align: middle;\n",
       "    }\n",
       "\n",
       "    .dataframe tbody tr th {\n",
       "        vertical-align: top;\n",
       "    }\n",
       "\n",
       "    .dataframe thead th {\n",
       "        text-align: right;\n",
       "    }\n",
       "</style>\n",
       "<table border=\"1\" class=\"dataframe\">\n",
       "  <thead>\n",
       "    <tr style=\"text-align: right;\">\n",
       "      <th></th>\n",
       "      <th>frequency</th>\n",
       "      <th>unique_accounts</th>\n",
       "      <th>relative_accounts</th>\n",
       "    </tr>\n",
       "  </thead>\n",
       "  <tbody>\n",
       "    <tr>\n",
       "      <th>0</th>\n",
       "      <td>POPLATEK MESICNE</td>\n",
       "      <td>4167</td>\n",
       "      <td>0.93</td>\n",
       "    </tr>\n",
       "    <tr>\n",
       "      <th>1</th>\n",
       "      <td>POPLATEK PO OBRATU</td>\n",
       "      <td>93</td>\n",
       "      <td>0.02</td>\n",
       "    </tr>\n",
       "    <tr>\n",
       "      <th>2</th>\n",
       "      <td>POPLATEK TYDNE</td>\n",
       "      <td>240</td>\n",
       "      <td>0.05</td>\n",
       "    </tr>\n",
       "  </tbody>\n",
       "</table>\n",
       "</div>"
      ],
      "text/plain": [
       "            frequency  unique_accounts  relative_accounts\n",
       "0    POPLATEK MESICNE             4167               0.93\n",
       "1  POPLATEK PO OBRATU               93               0.02\n",
       "2      POPLATEK TYDNE              240               0.05"
      ]
     },
     "execution_count": 8,
     "metadata": {},
     "output_type": "execute_result"
    }
   ],
   "source": [
    "df_account_district_merge.round(2)"
   ]
  },
  {
   "cell_type": "code",
   "execution_count": 9,
   "metadata": {},
   "outputs": [
    {
     "data": {
      "image/png": "[encoded data removed]",
      "text/plain": [
       "<Figure size 432x288 with 1 Axes>"
      ]
     },
     "metadata": {
      "needs_background": "light"
     },
     "output_type": "display_data"
    }
   ],
   "source": [
    "plt.bar(df_account_district_merge.frequency.tolist(), df_account_district_merge.relative_accounts.tolist(), align='center', alpha=0.5)\n",
    "plt.ylabel('relative_accounts')\n",
    "plt.title('Proporcion de cuentas unicas por frecuencia')\n",
    "plt.show()"
   ]
  },
  {
   "cell_type": "code",
   "execution_count": 10,
   "metadata": {},
   "outputs": [],
   "source": [
    "df_avg_accounts =  df_account.merge(df_district, left_on = 'district_id', right_on='A1', how = 'left').groupby('A3').agg({'account_id':'nunique','A11':'mean'}).reset_index().sort_values('account_id', ascending=False).rename({'account_id':'count_unique_accounts','A11':'avg_salary'},axis = 1)"
   ]
  },
  {
   "cell_type": "code",
   "execution_count": 11,
   "metadata": {},
   "outputs": [
    {
     "data": {
      "text/html": [
       "<div>\n",
       "<style scoped>\n",
       "    .dataframe tbody tr th:only-of-type {\n",
       "        vertical-align: middle;\n",
       "    }\n",
       "\n",
       "    .dataframe tbody tr th {\n",
       "        vertical-align: top;\n",
       "    }\n",
       "\n",
       "    .dataframe thead th {\n",
       "        text-align: right;\n",
       "    }\n",
       "</style>\n",
       "<table border=\"1\" class=\"dataframe\">\n",
       "  <thead>\n",
       "    <tr style=\"text-align: right;\">\n",
       "      <th></th>\n",
       "      <th>A3</th>\n",
       "      <th>count_unique_accounts</th>\n",
       "      <th>avg_salary</th>\n",
       "    </tr>\n",
       "  </thead>\n",
       "  <tbody>\n",
       "    <tr>\n",
       "      <th>4</th>\n",
       "      <td>north Moravia</td>\n",
       "      <td>793</td>\n",
       "      <td>9409.911728</td>\n",
       "    </tr>\n",
       "    <tr>\n",
       "      <th>6</th>\n",
       "      <td>south Moravia</td>\n",
       "      <td>778</td>\n",
       "      <td>8895.430591</td>\n",
       "    </tr>\n",
       "    <tr>\n",
       "      <th>1</th>\n",
       "      <td>central Bohemia</td>\n",
       "      <td>574</td>\n",
       "      <td>9408.621951</td>\n",
       "    </tr>\n",
       "    <tr>\n",
       "      <th>0</th>\n",
       "      <td>Prague</td>\n",
       "      <td>554</td>\n",
       "      <td>12541.000000</td>\n",
       "    </tr>\n",
       "    <tr>\n",
       "      <th>2</th>\n",
       "      <td>east Bohemia</td>\n",
       "      <td>544</td>\n",
       "      <td>8625.875000</td>\n",
       "    </tr>\n",
       "    <tr>\n",
       "      <th>3</th>\n",
       "      <td>north Bohemia</td>\n",
       "      <td>457</td>\n",
       "      <td>9310.026258</td>\n",
       "    </tr>\n",
       "    <tr>\n",
       "      <th>7</th>\n",
       "      <td>west Bohemia</td>\n",
       "      <td>430</td>\n",
       "      <td>9018.332558</td>\n",
       "    </tr>\n",
       "    <tr>\n",
       "      <th>5</th>\n",
       "      <td>south Bohemia</td>\n",
       "      <td>370</td>\n",
       "      <td>8817.321622</td>\n",
       "    </tr>\n",
       "  </tbody>\n",
       "</table>\n",
       "</div>"
      ],
      "text/plain": [
       "                A3  count_unique_accounts    avg_salary\n",
       "4    north Moravia                    793   9409.911728\n",
       "6    south Moravia                    778   8895.430591\n",
       "1  central Bohemia                    574   9408.621951\n",
       "0           Prague                    554  12541.000000\n",
       "2     east Bohemia                    544   8625.875000\n",
       "3    north Bohemia                    457   9310.026258\n",
       "7     west Bohemia                    430   9018.332558\n",
       "5    south Bohemia                    370   8817.321622"
      ]
     },
     "execution_count": 11,
     "metadata": {},
     "output_type": "execute_result"
    }
   ],
   "source": [
    "df_avg_accounts"
   ]
  },
  {
   "cell_type": "code",
   "execution_count": 12,
   "metadata": {},
   "outputs": [
    {
     "data": {
      "image/png": "[encoded data removed]",
      "text/plain": [
       "<Figure size 432x288 with 1 Axes>"
      ]
     },
     "metadata": {
      "needs_background": "light"
     },
     "output_type": "display_data"
    }
   ],
   "source": [
    "plt.bar(df_avg_accounts.A3.tolist(), df_avg_accounts.avg_salary.tolist(), align='center', alpha=0.5)\n",
    "plt.ylabel('avg_salary')\n",
    "plt.title('Promedio del salario por region')\n",
    "plt.xticks(rotation=90)\n",
    "plt.show()"
   ]
  },
  {
   "cell_type": "code",
   "execution_count": 13,
   "metadata": {},
   "outputs": [
    {
     "data": {
      "image/png": "[encoded data removed]",
      "text/plain": [
       "<Figure size 432x288 with 1 Axes>"
      ]
     },
     "metadata": {
      "needs_background": "light"
     },
     "output_type": "display_data"
    }
   ],
   "source": [
    "plt.bar(df_avg_accounts.A3.tolist(), df_avg_accounts.count_unique_accounts.tolist(), align='center', alpha=0.5)\n",
    "plt.ylabel('avg_salary')\n",
    "plt.title('Cantidad de cuentas unicas por region')\n",
    "plt.xticks(rotation=90)\n",
    "plt.show()"
   ]
  },
  {
   "cell_type": "code",
   "execution_count": 14,
   "metadata": {},
   "outputs": [],
   "source": [
    "df_card_stats = df_card.groupby('type').agg({'card_id':'nunique'}).reset_index()"
   ]
  },
  {
   "cell_type": "code",
   "execution_count": 15,
   "metadata": {},
   "outputs": [],
   "source": [
    "df_card_stats['relative_frequency'] = df_card_stats['card_id']/df_card_stats['card_id'].sum()"
   ]
  },
  {
   "cell_type": "code",
   "execution_count": 16,
   "metadata": {},
   "outputs": [
    {
     "data": {
      "text/html": [
       "<div>\n",
       "<style scoped>\n",
       "    .dataframe tbody tr th:only-of-type {\n",
       "        vertical-align: middle;\n",
       "    }\n",
       "\n",
       "    .dataframe tbody tr th {\n",
       "        vertical-align: top;\n",
       "    }\n",
       "\n",
       "    .dataframe thead th {\n",
       "        text-align: right;\n",
       "    }\n",
       "</style>\n",
       "<table border=\"1\" class=\"dataframe\">\n",
       "  <thead>\n",
       "    <tr style=\"text-align: right;\">\n",
       "      <th></th>\n",
       "      <th>type</th>\n",
       "      <th>card_id</th>\n",
       "      <th>relative_frequency</th>\n",
       "    </tr>\n",
       "  </thead>\n",
       "  <tbody>\n",
       "    <tr>\n",
       "      <th>0</th>\n",
       "      <td>classic</td>\n",
       "      <td>659</td>\n",
       "      <td>0.74</td>\n",
       "    </tr>\n",
       "    <tr>\n",
       "      <th>1</th>\n",
       "      <td>gold</td>\n",
       "      <td>88</td>\n",
       "      <td>0.10</td>\n",
       "    </tr>\n",
       "    <tr>\n",
       "      <th>2</th>\n",
       "      <td>junior</td>\n",
       "      <td>145</td>\n",
       "      <td>0.16</td>\n",
       "    </tr>\n",
       "  </tbody>\n",
       "</table>\n",
       "</div>"
      ],
      "text/plain": [
       "      type  card_id  relative_frequency\n",
       "0  classic      659                0.74\n",
       "1     gold       88                0.10\n",
       "2   junior      145                0.16"
      ]
     },
     "execution_count": 16,
     "metadata": {},
     "output_type": "execute_result"
    }
   ],
   "source": [
    "df_card_stats.round(2)"
   ]
  },
  {
   "cell_type": "code",
   "execution_count": 17,
   "metadata": {},
   "outputs": [
    {
     "data": {
      "image/png": "[encoded data removed]",
      "text/plain": [
       "<Figure size 432x288 with 1 Axes>"
      ]
     },
     "metadata": {
      "needs_background": "light"
     },
     "output_type": "display_data"
    }
   ],
   "source": [
    "plt.bar(df_card_stats.type.tolist(), df_card_stats.relative_frequency.tolist(), align='center', alpha=0.5)\n",
    "plt.ylabel('relative_frequency')\n",
    "plt.title('Tipo de tarjeta')\n",
    "plt.xticks(rotation=90)\n",
    "plt.show()"
   ]
  },
  {
   "cell_type": "markdown",
   "metadata": {},
   "source": [
    "<h3 style = 'color:orange'>Data wrangling</h3>"
   ]
  },
  {
   "cell_type": "code",
   "execution_count": 18,
   "metadata": {},
   "outputs": [],
   "source": [
    "df_unique_trans = df_trans.groupby('account_id').agg({'trans_id':'nunique'}).reset_index().rename({'trans_id':'unique_trans'},axis=1)"
   ]
  },
  {
   "cell_type": "code",
   "execution_count": 19,
   "metadata": {},
   "outputs": [
    {
     "data": {
      "text/html": [
       "<div>\n",
       "<style scoped>\n",
       "    .dataframe tbody tr th:only-of-type {\n",
       "        vertical-align: middle;\n",
       "    }\n",
       "\n",
       "    .dataframe tbody tr th {\n",
       "        vertical-align: top;\n",
       "    }\n",
       "\n",
       "    .dataframe thead th {\n",
       "        text-align: right;\n",
       "    }\n",
       "</style>\n",
       "<table border=\"1\" class=\"dataframe\">\n",
       "  <thead>\n",
       "    <tr style=\"text-align: right;\">\n",
       "      <th></th>\n",
       "      <th>account_id</th>\n",
       "      <th>unique_trans</th>\n",
       "    </tr>\n",
       "  </thead>\n",
       "  <tbody>\n",
       "    <tr>\n",
       "      <th>0</th>\n",
       "      <td>1</td>\n",
       "      <td>239</td>\n",
       "    </tr>\n",
       "    <tr>\n",
       "      <th>1</th>\n",
       "      <td>2</td>\n",
       "      <td>478</td>\n",
       "    </tr>\n",
       "    <tr>\n",
       "      <th>2</th>\n",
       "      <td>3</td>\n",
       "      <td>117</td>\n",
       "    </tr>\n",
       "    <tr>\n",
       "      <th>3</th>\n",
       "      <td>4</td>\n",
       "      <td>186</td>\n",
       "    </tr>\n",
       "    <tr>\n",
       "      <th>4</th>\n",
       "      <td>5</td>\n",
       "      <td>84</td>\n",
       "    </tr>\n",
       "  </tbody>\n",
       "</table>\n",
       "</div>"
      ],
      "text/plain": [
       "   account_id  unique_trans\n",
       "0           1           239\n",
       "1           2           478\n",
       "2           3           117\n",
       "3           4           186\n",
       "4           5            84"
      ]
     },
     "execution_count": 19,
     "metadata": {},
     "output_type": "execute_result"
    }
   ],
   "source": [
    "df_unique_trans.head()"
   ]
  },
  {
   "cell_type": "code",
   "execution_count": 20,
   "metadata": {},
   "outputs": [],
   "source": [
    "df_account_sum = df_order.groupby('account_id').agg({'amount':'sum'}).reset_index().rename({'amount':'sum_amount'},axis = 1)"
   ]
  },
  {
   "cell_type": "code",
   "execution_count": 21,
   "metadata": {},
   "outputs": [
    {
     "data": {
      "text/html": [
       "<div>\n",
       "<style scoped>\n",
       "    .dataframe tbody tr th:only-of-type {\n",
       "        vertical-align: middle;\n",
       "    }\n",
       "\n",
       "    .dataframe tbody tr th {\n",
       "        vertical-align: top;\n",
       "    }\n",
       "\n",
       "    .dataframe thead th {\n",
       "        text-align: right;\n",
       "    }\n",
       "</style>\n",
       "<table border=\"1\" class=\"dataframe\">\n",
       "  <thead>\n",
       "    <tr style=\"text-align: right;\">\n",
       "      <th></th>\n",
       "      <th>account_id</th>\n",
       "      <th>sum_amount</th>\n",
       "    </tr>\n",
       "  </thead>\n",
       "  <tbody>\n",
       "    <tr>\n",
       "      <th>0</th>\n",
       "      <td>1</td>\n",
       "      <td>2452.0</td>\n",
       "    </tr>\n",
       "    <tr>\n",
       "      <th>1</th>\n",
       "      <td>2</td>\n",
       "      <td>10638.7</td>\n",
       "    </tr>\n",
       "    <tr>\n",
       "      <th>2</th>\n",
       "      <td>3</td>\n",
       "      <td>5001.0</td>\n",
       "    </tr>\n",
       "    <tr>\n",
       "      <th>3</th>\n",
       "      <td>4</td>\n",
       "      <td>3363.0</td>\n",
       "    </tr>\n",
       "    <tr>\n",
       "      <th>4</th>\n",
       "      <td>5</td>\n",
       "      <td>2668.0</td>\n",
       "    </tr>\n",
       "  </tbody>\n",
       "</table>\n",
       "</div>"
      ],
      "text/plain": [
       "   account_id  sum_amount\n",
       "0           1      2452.0\n",
       "1           2     10638.7\n",
       "2           3      5001.0\n",
       "3           4      3363.0\n",
       "4           5      2668.0"
      ]
     },
     "execution_count": 21,
     "metadata": {},
     "output_type": "execute_result"
    }
   ],
   "source": [
    "df_account_sum.head()"
   ]
  },
  {
   "cell_type": "code",
   "execution_count": 22,
   "metadata": {},
   "outputs": [],
   "source": [
    "df_table_miner = df_card.drop('issued', axis = 1).merge(df_disp, on = 'disp_id', how = 'left', suffixes=('_card','_client')).merge(df_account.drop('date', axis = 1), on = 'account_id', how = 'left').merge(df_district[['A1','A3','A4','A11']], left_on = 'district_id', right_on='A1').merge(df_client[['client_id','birth_number']], on='client_id', how = 'left').merge(df_loan[['account_id','amount','duration', 'status']], on = 'account_id', how = 'inner').merge(df_account_sum, on = 'account_id', how = 'left').merge(df_unique_trans, on = 'account_id', how = 'left').drop(['disp_id','account_id','district_id','card_id','A1'], axis = 1)"
   ]
  },
  {
   "cell_type": "code",
   "execution_count": 23,
   "metadata": {},
   "outputs": [
    {
     "data": {
      "text/html": [
       "<div>\n",
       "<style scoped>\n",
       "    .dataframe tbody tr th:only-of-type {\n",
       "        vertical-align: middle;\n",
       "    }\n",
       "\n",
       "    .dataframe tbody tr th {\n",
       "        vertical-align: top;\n",
       "    }\n",
       "\n",
       "    .dataframe thead th {\n",
       "        text-align: right;\n",
       "    }\n",
       "</style>\n",
       "<table border=\"1\" class=\"dataframe\">\n",
       "  <thead>\n",
       "    <tr style=\"text-align: right;\">\n",
       "      <th></th>\n",
       "      <th>type_card</th>\n",
       "      <th>client_id</th>\n",
       "      <th>type_client</th>\n",
       "      <th>frequency</th>\n",
       "      <th>A3</th>\n",
       "      <th>A4</th>\n",
       "      <th>A11</th>\n",
       "      <th>birth_number</th>\n",
       "      <th>amount</th>\n",
       "      <th>duration</th>\n",
       "      <th>status</th>\n",
       "      <th>sum_amount</th>\n",
       "      <th>unique_trans</th>\n",
       "    </tr>\n",
       "  </thead>\n",
       "  <tbody>\n",
       "    <tr>\n",
       "      <th>0</th>\n",
       "      <td>classic</td>\n",
       "      <td>9593</td>\n",
       "      <td>OWNER</td>\n",
       "      <td>POPLATEK MESICNE</td>\n",
       "      <td>north Moravia</td>\n",
       "      <td>323870</td>\n",
       "      <td>10673</td>\n",
       "      <td>685128</td>\n",
       "      <td>51696</td>\n",
       "      <td>24</td>\n",
       "      <td>A</td>\n",
       "      <td>2153.8</td>\n",
       "      <td>500</td>\n",
       "    </tr>\n",
       "    <tr>\n",
       "      <th>1</th>\n",
       "      <td>classic</td>\n",
       "      <td>7422</td>\n",
       "      <td>OWNER</td>\n",
       "      <td>POPLATEK MESICNE</td>\n",
       "      <td>north Moravia</td>\n",
       "      <td>323870</td>\n",
       "      <td>10673</td>\n",
       "      <td>581126</td>\n",
       "      <td>59760</td>\n",
       "      <td>24</td>\n",
       "      <td>A</td>\n",
       "      <td>10337.0</td>\n",
       "      <td>416</td>\n",
       "    </tr>\n",
       "    <tr>\n",
       "      <th>2</th>\n",
       "      <td>classic</td>\n",
       "      <td>3519</td>\n",
       "      <td>OWNER</td>\n",
       "      <td>POPLATEK MESICNE</td>\n",
       "      <td>north Moravia</td>\n",
       "      <td>323870</td>\n",
       "      <td>10673</td>\n",
       "      <td>491215</td>\n",
       "      <td>380160</td>\n",
       "      <td>60</td>\n",
       "      <td>C</td>\n",
       "      <td>6336.0</td>\n",
       "      <td>369</td>\n",
       "    </tr>\n",
       "    <tr>\n",
       "      <th>3</th>\n",
       "      <td>classic</td>\n",
       "      <td>2522</td>\n",
       "      <td>OWNER</td>\n",
       "      <td>POPLATEK MESICNE</td>\n",
       "      <td>north Moravia</td>\n",
       "      <td>323870</td>\n",
       "      <td>10673</td>\n",
       "      <td>370908</td>\n",
       "      <td>214596</td>\n",
       "      <td>36</td>\n",
       "      <td>C</td>\n",
       "      <td>19589.0</td>\n",
       "      <td>128</td>\n",
       "    </tr>\n",
       "    <tr>\n",
       "      <th>4</th>\n",
       "      <td>junior</td>\n",
       "      <td>8359</td>\n",
       "      <td>OWNER</td>\n",
       "      <td>POPLATEK MESICNE</td>\n",
       "      <td>north Moravia</td>\n",
       "      <td>323870</td>\n",
       "      <td>10673</td>\n",
       "      <td>791206</td>\n",
       "      <td>194880</td>\n",
       "      <td>48</td>\n",
       "      <td>C</td>\n",
       "      <td>8644.5</td>\n",
       "      <td>376</td>\n",
       "    </tr>\n",
       "  </tbody>\n",
       "</table>\n",
       "</div>"
      ],
      "text/plain": [
       "  type_card  client_id type_client         frequency             A3      A4  \\\n",
       "0   classic       9593       OWNER  POPLATEK MESICNE  north Moravia  323870   \n",
       "1   classic       7422       OWNER  POPLATEK MESICNE  north Moravia  323870   \n",
       "2   classic       3519       OWNER  POPLATEK MESICNE  north Moravia  323870   \n",
       "3   classic       2522       OWNER  POPLATEK MESICNE  north Moravia  323870   \n",
       "4    junior       8359       OWNER  POPLATEK MESICNE  north Moravia  323870   \n",
       "\n",
       "     A11  birth_number  amount  duration status  sum_amount  unique_trans  \n",
       "0  10673        685128   51696        24      A      2153.8           500  \n",
       "1  10673        581126   59760        24      A     10337.0           416  \n",
       "2  10673        491215  380160        60      C      6336.0           369  \n",
       "3  10673        370908  214596        36      C     19589.0           128  \n",
       "4  10673        791206  194880        48      C      8644.5           376  "
      ]
     },
     "execution_count": 23,
     "metadata": {},
     "output_type": "execute_result"
    }
   ],
   "source": [
    "df_table_miner.head()"
   ]
  },
  {
   "cell_type": "code",
   "execution_count": 24,
   "metadata": {},
   "outputs": [
    {
     "name": "stdout",
     "output_type": "stream",
     "text": [
      "<class 'pandas.core.frame.DataFrame'>\n",
      "Int64Index: 170 entries, 0 to 169\n",
      "Data columns (total 13 columns):\n",
      " #   Column        Non-Null Count  Dtype  \n",
      "---  ------        --------------  -----  \n",
      " 0   type_card     170 non-null    object \n",
      " 1   client_id     170 non-null    int64  \n",
      " 2   type_client   170 non-null    object \n",
      " 3   frequency     170 non-null    object \n",
      " 4   A3            170 non-null    object \n",
      " 5   A4            170 non-null    int64  \n",
      " 6   A11           170 non-null    int64  \n",
      " 7   birth_number  170 non-null    int64  \n",
      " 8   amount        170 non-null    int64  \n",
      " 9   duration      170 non-null    int64  \n",
      " 10  status        170 non-null    object \n",
      " 11  sum_amount    170 non-null    float64\n",
      " 12  unique_trans  170 non-null    int64  \n",
      "dtypes: float64(1), int64(7), object(5)\n",
      "memory usage: 18.6+ KB\n"
     ]
    }
   ],
   "source": [
    "df_table_miner.info()"
   ]
  },
  {
   "cell_type": "code",
   "execution_count": 25,
   "metadata": {},
   "outputs": [
    {
     "data": {
      "text/html": [
       "<div>\n",
       "<style scoped>\n",
       "    .dataframe tbody tr th:only-of-type {\n",
       "        vertical-align: middle;\n",
       "    }\n",
       "\n",
       "    .dataframe tbody tr th {\n",
       "        vertical-align: top;\n",
       "    }\n",
       "\n",
       "    .dataframe thead th {\n",
       "        text-align: right;\n",
       "    }\n",
       "</style>\n",
       "<table border=\"1\" class=\"dataframe\">\n",
       "  <thead>\n",
       "    <tr style=\"text-align: right;\">\n",
       "      <th></th>\n",
       "      <th>A4</th>\n",
       "      <th>A11</th>\n",
       "      <th>birth_number</th>\n",
       "      <th>amount</th>\n",
       "      <th>duration</th>\n",
       "      <th>sum_amount</th>\n",
       "      <th>unique_trans</th>\n",
       "    </tr>\n",
       "  </thead>\n",
       "  <tbody>\n",
       "    <tr>\n",
       "      <th>count</th>\n",
       "      <td>1.700000e+02</td>\n",
       "      <td>170.000000</td>\n",
       "      <td>170.000000</td>\n",
       "      <td>170.000000</td>\n",
       "      <td>170.000000</td>\n",
       "      <td>170.000000</td>\n",
       "      <td>170.000000</td>\n",
       "    </tr>\n",
       "    <tr>\n",
       "      <th>mean</th>\n",
       "      <td>2.756797e+05</td>\n",
       "      <td>9584.011765</td>\n",
       "      <td>588492.882353</td>\n",
       "      <td>159076.517647</td>\n",
       "      <td>35.858824</td>\n",
       "      <td>9040.375882</td>\n",
       "      <td>277.217647</td>\n",
       "    </tr>\n",
       "    <tr>\n",
       "      <th>std</th>\n",
       "      <td>3.591330e+05</td>\n",
       "      <td>1314.206085</td>\n",
       "      <td>133564.972366</td>\n",
       "      <td>114895.345236</td>\n",
       "      <td>17.317879</td>\n",
       "      <td>5140.969004</td>\n",
       "      <td>136.027385</td>\n",
       "    </tr>\n",
       "    <tr>\n",
       "      <th>min</th>\n",
       "      <td>4.282100e+04</td>\n",
       "      <td>8173.000000</td>\n",
       "      <td>351003.000000</td>\n",
       "      <td>12540.000000</td>\n",
       "      <td>12.000000</td>\n",
       "      <td>312.000000</td>\n",
       "      <td>49.000000</td>\n",
       "    </tr>\n",
       "    <tr>\n",
       "      <th>25%</th>\n",
       "      <td>8.888400e+04</td>\n",
       "      <td>8561.000000</td>\n",
       "      <td>470172.000000</td>\n",
       "      <td>74061.000000</td>\n",
       "      <td>24.000000</td>\n",
       "      <td>5241.525000</td>\n",
       "      <td>169.000000</td>\n",
       "    </tr>\n",
       "    <tr>\n",
       "      <th>50%</th>\n",
       "      <td>1.266005e+05</td>\n",
       "      <td>9084.500000</td>\n",
       "      <td>580969.500000</td>\n",
       "      <td>120120.000000</td>\n",
       "      <td>36.000000</td>\n",
       "      <td>7957.850000</td>\n",
       "      <td>254.500000</td>\n",
       "    </tr>\n",
       "    <tr>\n",
       "      <th>75%</th>\n",
       "      <td>2.288480e+05</td>\n",
       "      <td>10045.000000</td>\n",
       "      <td>705807.750000</td>\n",
       "      <td>222969.000000</td>\n",
       "      <td>48.000000</td>\n",
       "      <td>12498.750000</td>\n",
       "      <td>374.250000</td>\n",
       "    </tr>\n",
       "    <tr>\n",
       "      <th>max</th>\n",
       "      <td>1.204953e+06</td>\n",
       "      <td>12541.000000</td>\n",
       "      <td>806113.000000</td>\n",
       "      <td>495180.000000</td>\n",
       "      <td>60.000000</td>\n",
       "      <td>21725.300000</td>\n",
       "      <td>643.000000</td>\n",
       "    </tr>\n",
       "  </tbody>\n",
       "</table>\n",
       "</div>"
      ],
      "text/plain": [
       "                 A4           A11   birth_number         amount    duration  \\\n",
       "count  1.700000e+02    170.000000     170.000000     170.000000  170.000000   \n",
       "mean   2.756797e+05   9584.011765  588492.882353  159076.517647   35.858824   \n",
       "std    3.591330e+05   1314.206085  133564.972366  114895.345236   17.317879   \n",
       "min    4.282100e+04   8173.000000  351003.000000   12540.000000   12.000000   \n",
       "25%    8.888400e+04   8561.000000  470172.000000   74061.000000   24.000000   \n",
       "50%    1.266005e+05   9084.500000  580969.500000  120120.000000   36.000000   \n",
       "75%    2.288480e+05  10045.000000  705807.750000  222969.000000   48.000000   \n",
       "max    1.204953e+06  12541.000000  806113.000000  495180.000000   60.000000   \n",
       "\n",
       "         sum_amount  unique_trans  \n",
       "count    170.000000    170.000000  \n",
       "mean    9040.375882    277.217647  \n",
       "std     5140.969004    136.027385  \n",
       "min      312.000000     49.000000  \n",
       "25%     5241.525000    169.000000  \n",
       "50%     7957.850000    254.500000  \n",
       "75%    12498.750000    374.250000  \n",
       "max    21725.300000    643.000000  "
      ]
     },
     "execution_count": 25,
     "metadata": {},
     "output_type": "execute_result"
    }
   ],
   "source": [
    "df_table_miner.drop('client_id', axis=1).select_dtypes(include=np.number).describe()"
   ]
  },
  {
   "cell_type": "code",
   "execution_count": 26,
   "metadata": {},
   "outputs": [
    {
     "data": {
      "text/html": [
       "<div>\n",
       "<style scoped>\n",
       "    .dataframe tbody tr th:only-of-type {\n",
       "        vertical-align: middle;\n",
       "    }\n",
       "\n",
       "    .dataframe tbody tr th {\n",
       "        vertical-align: top;\n",
       "    }\n",
       "\n",
       "    .dataframe thead th {\n",
       "        text-align: right;\n",
       "    }\n",
       "</style>\n",
       "<table border=\"1\" class=\"dataframe\">\n",
       "  <thead>\n",
       "    <tr style=\"text-align: right;\">\n",
       "      <th></th>\n",
       "      <th>client_id</th>\n",
       "    </tr>\n",
       "    <tr>\n",
       "      <th>type_client</th>\n",
       "      <th></th>\n",
       "    </tr>\n",
       "  </thead>\n",
       "  <tbody>\n",
       "    <tr>\n",
       "      <th>OWNER</th>\n",
       "      <td>170</td>\n",
       "    </tr>\n",
       "  </tbody>\n",
       "</table>\n",
       "</div>"
      ],
      "text/plain": [
       "             client_id\n",
       "type_client           \n",
       "OWNER              170"
      ]
     },
     "execution_count": 26,
     "metadata": {},
     "output_type": "execute_result"
    }
   ],
   "source": [
    "df_table_miner.groupby(['type_client']).agg({'client_id':'nunique'})"
   ]
  },
  {
   "cell_type": "markdown",
   "metadata": {},
   "source": [
    "<p>Todos los clientes dentro del estudio de clasificacion de tarjetas son propietarios de su respectiva cuenta</p>"
   ]
  },
  {
   "cell_type": "code",
   "execution_count": 27,
   "metadata": {},
   "outputs": [],
   "source": [
    "df_frequency_table = df_table_miner.groupby(['frequency']).agg({'client_id':'nunique'}).reset_index()"
   ]
  },
  {
   "cell_type": "code",
   "execution_count": 28,
   "metadata": {},
   "outputs": [
    {
     "data": {
      "text/html": [
       "<div>\n",
       "<style scoped>\n",
       "    .dataframe tbody tr th:only-of-type {\n",
       "        vertical-align: middle;\n",
       "    }\n",
       "\n",
       "    .dataframe tbody tr th {\n",
       "        vertical-align: top;\n",
       "    }\n",
       "\n",
       "    .dataframe thead th {\n",
       "        text-align: right;\n",
       "    }\n",
       "</style>\n",
       "<table border=\"1\" class=\"dataframe\">\n",
       "  <thead>\n",
       "    <tr style=\"text-align: right;\">\n",
       "      <th></th>\n",
       "      <th>frequency</th>\n",
       "      <th>client_id</th>\n",
       "    </tr>\n",
       "  </thead>\n",
       "  <tbody>\n",
       "    <tr>\n",
       "      <th>0</th>\n",
       "      <td>POPLATEK MESICNE</td>\n",
       "      <td>145</td>\n",
       "    </tr>\n",
       "    <tr>\n",
       "      <th>1</th>\n",
       "      <td>POPLATEK PO OBRATU</td>\n",
       "      <td>6</td>\n",
       "    </tr>\n",
       "    <tr>\n",
       "      <th>2</th>\n",
       "      <td>POPLATEK TYDNE</td>\n",
       "      <td>19</td>\n",
       "    </tr>\n",
       "  </tbody>\n",
       "</table>\n",
       "</div>"
      ],
      "text/plain": [
       "            frequency  client_id\n",
       "0    POPLATEK MESICNE        145\n",
       "1  POPLATEK PO OBRATU          6\n",
       "2      POPLATEK TYDNE         19"
      ]
     },
     "execution_count": 28,
     "metadata": {},
     "output_type": "execute_result"
    }
   ],
   "source": [
    "df_frequency_table"
   ]
  },
  {
   "cell_type": "code",
   "execution_count": 29,
   "metadata": {},
   "outputs": [
    {
     "data": {
      "image/png": "[encoded data removed]",
      "text/plain": [
       "<Figure size 432x288 with 1 Axes>"
      ]
     },
     "metadata": {},
     "output_type": "display_data"
    }
   ],
   "source": [
    "plt.pie(df_frequency_table.client_id.values.tolist(), labels = df_frequency_table.frequency.values.tolist(), autopct='%.0f%%')\n",
    "plt.show()"
   ]
  },
  {
   "cell_type": "markdown",
   "metadata": {},
   "source": [
    "<p>La mayoria de los clientes seleccionados tienen una frecuencia correspondiente a POPLATEK MESICNE</p>"
   ]
  },
  {
   "cell_type": "code",
   "execution_count": 30,
   "metadata": {},
   "outputs": [],
   "source": [
    "df_type_card = df_table_miner.groupby(['type_card']).agg({'client_id':'nunique'}).reset_index()"
   ]
  },
  {
   "cell_type": "code",
   "execution_count": 31,
   "metadata": {},
   "outputs": [
    {
     "data": {
      "text/html": [
       "<div>\n",
       "<style scoped>\n",
       "    .dataframe tbody tr th:only-of-type {\n",
       "        vertical-align: middle;\n",
       "    }\n",
       "\n",
       "    .dataframe tbody tr th {\n",
       "        vertical-align: top;\n",
       "    }\n",
       "\n",
       "    .dataframe thead th {\n",
       "        text-align: right;\n",
       "    }\n",
       "</style>\n",
       "<table border=\"1\" class=\"dataframe\">\n",
       "  <thead>\n",
       "    <tr style=\"text-align: right;\">\n",
       "      <th></th>\n",
       "      <th>type_card</th>\n",
       "      <th>client_id</th>\n",
       "    </tr>\n",
       "  </thead>\n",
       "  <tbody>\n",
       "    <tr>\n",
       "      <th>0</th>\n",
       "      <td>classic</td>\n",
       "      <td>133</td>\n",
       "    </tr>\n",
       "    <tr>\n",
       "      <th>1</th>\n",
       "      <td>gold</td>\n",
       "      <td>16</td>\n",
       "    </tr>\n",
       "    <tr>\n",
       "      <th>2</th>\n",
       "      <td>junior</td>\n",
       "      <td>21</td>\n",
       "    </tr>\n",
       "  </tbody>\n",
       "</table>\n",
       "</div>"
      ],
      "text/plain": [
       "  type_card  client_id\n",
       "0   classic        133\n",
       "1      gold         16\n",
       "2    junior         21"
      ]
     },
     "execution_count": 31,
     "metadata": {},
     "output_type": "execute_result"
    }
   ],
   "source": [
    "df_type_card.head()"
   ]
  },
  {
   "cell_type": "code",
   "execution_count": 32,
   "metadata": {},
   "outputs": [
    {
     "data": {
      "image/png": "[encoded data removed]",
      "text/plain": [
       "<Figure size 432x288 with 1 Axes>"
      ]
     },
     "metadata": {},
     "output_type": "display_data"
    }
   ],
   "source": [
    "plt.pie(df_type_card.client_id.values.tolist(), labels = df_type_card.type_card.values.tolist(), autopct='%.0f%%')\n",
    "plt.show()"
   ]
  },
  {
   "cell_type": "markdown",
   "metadata": {},
   "source": [
    "<p>Se puede ver que la proporcion de estudio es similar a la de la poblacion, por lo que se tiene aparente representatividad</p>"
   ]
  },
  {
   "cell_type": "code",
   "execution_count": 33,
   "metadata": {},
   "outputs": [],
   "source": [
    "df_zone = df_table_miner.groupby(['A3']).agg({'client_id':'nunique'}).reset_index()"
   ]
  },
  {
   "cell_type": "code",
   "execution_count": 34,
   "metadata": {},
   "outputs": [
    {
     "data": {
      "text/html": [
       "<div>\n",
       "<style scoped>\n",
       "    .dataframe tbody tr th:only-of-type {\n",
       "        vertical-align: middle;\n",
       "    }\n",
       "\n",
       "    .dataframe tbody tr th {\n",
       "        vertical-align: top;\n",
       "    }\n",
       "\n",
       "    .dataframe thead th {\n",
       "        text-align: right;\n",
       "    }\n",
       "</style>\n",
       "<table border=\"1\" class=\"dataframe\">\n",
       "  <thead>\n",
       "    <tr style=\"text-align: right;\">\n",
       "      <th></th>\n",
       "      <th>A3</th>\n",
       "      <th>client_id</th>\n",
       "    </tr>\n",
       "  </thead>\n",
       "  <tbody>\n",
       "    <tr>\n",
       "      <th>0</th>\n",
       "      <td>Prague</td>\n",
       "      <td>21</td>\n",
       "    </tr>\n",
       "    <tr>\n",
       "      <th>1</th>\n",
       "      <td>central Bohemia</td>\n",
       "      <td>23</td>\n",
       "    </tr>\n",
       "    <tr>\n",
       "      <th>2</th>\n",
       "      <td>east Bohemia</td>\n",
       "      <td>17</td>\n",
       "    </tr>\n",
       "    <tr>\n",
       "      <th>3</th>\n",
       "      <td>north Bohemia</td>\n",
       "      <td>21</td>\n",
       "    </tr>\n",
       "    <tr>\n",
       "      <th>4</th>\n",
       "      <td>north Moravia</td>\n",
       "      <td>34</td>\n",
       "    </tr>\n",
       "    <tr>\n",
       "      <th>5</th>\n",
       "      <td>south Bohemia</td>\n",
       "      <td>17</td>\n",
       "    </tr>\n",
       "    <tr>\n",
       "      <th>6</th>\n",
       "      <td>south Moravia</td>\n",
       "      <td>23</td>\n",
       "    </tr>\n",
       "    <tr>\n",
       "      <th>7</th>\n",
       "      <td>west Bohemia</td>\n",
       "      <td>14</td>\n",
       "    </tr>\n",
       "  </tbody>\n",
       "</table>\n",
       "</div>"
      ],
      "text/plain": [
       "                A3  client_id\n",
       "0           Prague         21\n",
       "1  central Bohemia         23\n",
       "2     east Bohemia         17\n",
       "3    north Bohemia         21\n",
       "4    north Moravia         34\n",
       "5    south Bohemia         17\n",
       "6    south Moravia         23\n",
       "7     west Bohemia         14"
      ]
     },
     "execution_count": 34,
     "metadata": {},
     "output_type": "execute_result"
    }
   ],
   "source": [
    "df_zone"
   ]
  },
  {
   "cell_type": "code",
   "execution_count": 35,
   "metadata": {},
   "outputs": [
    {
     "data": {
      "image/png": "[encoded data removed]",
      "text/plain": [
       "<Figure size 432x288 with 1 Axes>"
      ]
     },
     "metadata": {},
     "output_type": "display_data"
    }
   ],
   "source": [
    "plt.pie(df_zone.client_id.values.tolist(), labels = df_zone.A3.values.tolist(), autopct='%.0f%%')\n",
    "plt.show()"
   ]
  },
  {
   "cell_type": "markdown",
   "metadata": {},
   "source": [
    "<p>Se puede ver que la distribucion entre regiones no presenta un patron representativo</p>"
   ]
  },
  {
   "cell_type": "code",
   "execution_count": 36,
   "metadata": {},
   "outputs": [],
   "source": [
    "df_status = df_table_miner.groupby(['status']).agg({'client_id':'nunique'}).reset_index()"
   ]
  },
  {
   "cell_type": "code",
   "execution_count": 37,
   "metadata": {},
   "outputs": [
    {
     "data": {
      "image/png": "[encoded data removed]",
      "text/plain": [
       "<Figure size 432x288 with 1 Axes>"
      ]
     },
     "metadata": {},
     "output_type": "display_data"
    }
   ],
   "source": [
    "plt.pie(df_status.client_id.values.tolist(), labels = df_status.status.values.tolist(), autopct='%.0f%%')\n",
    "plt.show()"
   ]
  },
  {
   "cell_type": "markdown",
   "metadata": {},
   "source": [
    "<p>Se puede ver que la mayor estatus presente es el C</p>"
   ]
  },
  {
   "cell_type": "code",
   "execution_count": 38,
   "metadata": {},
   "outputs": [
    {
     "data": {
      "text/plain": [
       "<AxesSubplot:xlabel='sum_amount', ylabel='Count'>"
      ]
     },
     "execution_count": 38,
     "metadata": {},
     "output_type": "execute_result"
    },
    {
     "data": {
      "image/png": "[encoded data removed]",
      "text/plain": [
       "<Figure size 432x288 with 1 Axes>"
      ]
     },
     "metadata": {
      "needs_background": "light"
     },
     "output_type": "display_data"
    }
   ],
   "source": [
    "sns.histplot(data=df_table_miner, x=\"sum_amount\", kde = True)"
   ]
  },
  {
   "cell_type": "markdown",
   "metadata": {},
   "source": [
    "<p>Se puede ver que la distribucion del monto se encuentra sesgado a la derecha</p>"
   ]
  },
  {
   "cell_type": "code",
   "execution_count": 39,
   "metadata": {},
   "outputs": [
    {
     "data": {
      "text/plain": [
       "<AxesSubplot:xlabel='sum_amount'>"
      ]
     },
     "execution_count": 39,
     "metadata": {},
     "output_type": "execute_result"
    },
    {
     "data": {
      "image/png": "[encoded data removed]",
      "text/plain": [
       "<Figure size 432x288 with 1 Axes>"
      ]
     },
     "metadata": {
      "needs_background": "light"
     },
     "output_type": "display_data"
    }
   ],
   "source": [
    "sns.boxplot(x=df_table_miner[\"sum_amount\"])"
   ]
  },
  {
   "cell_type": "markdown",
   "metadata": {},
   "source": [
    "<p>Empleando un boxplot, se puede ver que no existen outliers para esta variable</p>"
   ]
  },
  {
   "cell_type": "code",
   "execution_count": 40,
   "metadata": {},
   "outputs": [
    {
     "data": {
      "text/plain": [
       "<AxesSubplot:xlabel='A11', ylabel='Count'>"
      ]
     },
     "execution_count": 40,
     "metadata": {},
     "output_type": "execute_result"
    },
    {
     "data": {
      "image/png": "[encoded data removed]",
      "text/plain": [
       "<Figure size 432x288 with 1 Axes>"
      ]
     },
     "metadata": {
      "needs_background": "light"
     },
     "output_type": "display_data"
    }
   ],
   "source": [
    "sns.histplot(data=df_table_miner, x=\"A11\", kde = True)"
   ]
  },
  {
   "cell_type": "markdown",
   "metadata": {},
   "source": [
    "<p>Para la variable de salario medio por zona, se puede ver que no se tiene una distribucion normal, y esta sesgado a la derecha</p>"
   ]
  },
  {
   "cell_type": "code",
   "execution_count": 41,
   "metadata": {},
   "outputs": [
    {
     "data": {
      "text/plain": [
       "<AxesSubplot:xlabel='A11'>"
      ]
     },
     "execution_count": 41,
     "metadata": {},
     "output_type": "execute_result"
    },
    {
     "data": {
      "image/png": "[encoded data removed]",
      "text/plain": [
       "<Figure size 432x288 with 1 Axes>"
      ]
     },
     "metadata": {
      "needs_background": "light"
     },
     "output_type": "display_data"
    }
   ],
   "source": [
    "sns.boxplot(x=df_table_miner[\"A11\"])"
   ]
  },
  {
   "cell_type": "markdown",
   "metadata": {},
   "source": [
    "<p>Se puede ver que la variable de salario medio presenta un outlier</p>"
   ]
  },
  {
   "cell_type": "code",
   "execution_count": 42,
   "metadata": {},
   "outputs": [
    {
     "data": {
      "text/plain": [
       "<AxesSubplot:xlabel='unique_trans', ylabel='Count'>"
      ]
     },
     "execution_count": 42,
     "metadata": {},
     "output_type": "execute_result"
    },
    {
     "data": {
      "image/png": "[encoded data removed]",
      "text/plain": [
       "<Figure size 432x288 with 1 Axes>"
      ]
     },
     "metadata": {
      "needs_background": "light"
     },
     "output_type": "display_data"
    }
   ],
   "source": [
    "sns.histplot(data=df_table_miner, x=\"unique_trans\", kde = True)"
   ]
  },
  {
   "cell_type": "markdown",
   "metadata": {},
   "source": [
    "<p>Para la variable de transacciones unicas realizadas se puede ver que puede presentar una distribucion normal algo sesgada</p>"
   ]
  },
  {
   "cell_type": "code",
   "execution_count": 43,
   "metadata": {},
   "outputs": [
    {
     "data": {
      "text/plain": [
       "<AxesSubplot:xlabel='unique_trans'>"
      ]
     },
     "execution_count": 43,
     "metadata": {},
     "output_type": "execute_result"
    },
    {
     "data": {
      "image/png": "[encoded data removed]",
      "text/plain": [
       "<Figure size 432x288 with 1 Axes>"
      ]
     },
     "metadata": {
      "needs_background": "light"
     },
     "output_type": "display_data"
    }
   ],
   "source": [
    "sns.boxplot(x=df_table_miner[\"unique_trans\"])"
   ]
  },
  {
   "cell_type": "code",
   "execution_count": 68,
   "metadata": {},
   "outputs": [
    {
     "data": {
      "text/plain": [
       "<AxesSubplot:xlabel='A4'>"
      ]
     },
     "execution_count": 68,
     "metadata": {},
     "output_type": "execute_result"
    },
    {
     "data": {
      "image/png": "[encoded data removed]",
      "text/plain": [
       "<Figure size 432x288 with 1 Axes>"
      ]
     },
     "metadata": {
      "needs_background": "light"
     },
     "output_type": "display_data"
    }
   ],
   "source": [
    "sns.boxplot(x=df_table_miner[\"A4\"])"
   ]
  },
  {
   "cell_type": "code",
   "execution_count": 69,
   "metadata": {},
   "outputs": [
    {
     "data": {
      "text/plain": [
       "<AxesSubplot:xlabel='duration'>"
      ]
     },
     "execution_count": 69,
     "metadata": {},
     "output_type": "execute_result"
    },
    {
     "data": {
      "image/png": "[encoded data removed]",
      "text/plain": [
       "<Figure size 432x288 with 1 Axes>"
      ]
     },
     "metadata": {
      "needs_background": "light"
     },
     "output_type": "display_data"
    }
   ],
   "source": [
    "sns.boxplot(x=df_table_miner[\"duration\"])"
   ]
  },
  {
   "cell_type": "code",
   "execution_count": 70,
   "metadata": {},
   "outputs": [
    {
     "data": {
      "text/plain": [
       "<AxesSubplot:xlabel='duration', ylabel='Count'>"
      ]
     },
     "execution_count": 70,
     "metadata": {},
     "output_type": "execute_result"
    },
    {
     "data": {
      "image/png": "[encoded data removed]",
      "text/plain": [
       "<Figure size 432x288 with 1 Axes>"
      ]
     },
     "metadata": {
      "needs_background": "light"
     },
     "output_type": "display_data"
    }
   ],
   "source": [
    "sns.histplot(data=df_table_miner, x=\"duration\", kde = True)"
   ]
  },
  {
   "cell_type": "markdown",
   "metadata": {},
   "source": [
    "<p>La variable de transacciones no presenta outliers</p>"
   ]
  },
  {
   "cell_type": "markdown",
   "metadata": {},
   "source": [
    "<h3 style = 'color:orange'>Clear outliers</h3>"
   ]
  },
  {
   "cell_type": "code",
   "execution_count": 75,
   "metadata": {},
   "outputs": [],
   "source": [
    "df_table_miner['Z_A11'] = np.abs(stats.zscore(df_table_miner[\"A11\"]))\n",
    "df_table_miner['Z_A4'] = np.abs(stats.zscore(df_table_miner[\"A4\"]))"
   ]
  },
  {
   "cell_type": "code",
   "execution_count": 77,
   "metadata": {},
   "outputs": [
    {
     "data": {
      "text/html": [
       "<div>\n",
       "<style scoped>\n",
       "    .dataframe tbody tr th:only-of-type {\n",
       "        vertical-align: middle;\n",
       "    }\n",
       "\n",
       "    .dataframe tbody tr th {\n",
       "        vertical-align: top;\n",
       "    }\n",
       "\n",
       "    .dataframe thead th {\n",
       "        text-align: right;\n",
       "    }\n",
       "</style>\n",
       "<table border=\"1\" class=\"dataframe\">\n",
       "  <thead>\n",
       "    <tr style=\"text-align: right;\">\n",
       "      <th></th>\n",
       "      <th>type_card</th>\n",
       "      <th>client_id</th>\n",
       "      <th>type_client</th>\n",
       "      <th>frequency</th>\n",
       "      <th>A3</th>\n",
       "      <th>A4</th>\n",
       "      <th>A11</th>\n",
       "      <th>birth_number</th>\n",
       "      <th>amount</th>\n",
       "      <th>duration</th>\n",
       "      <th>status</th>\n",
       "      <th>sum_amount</th>\n",
       "      <th>unique_trans</th>\n",
       "      <th>Z_A11</th>\n",
       "      <th>Z_A4</th>\n",
       "    </tr>\n",
       "  </thead>\n",
       "  <tbody>\n",
       "    <tr>\n",
       "      <th>28</th>\n",
       "      <td>junior</td>\n",
       "      <td>11409</td>\n",
       "      <td>OWNER</td>\n",
       "      <td>POPLATEK MESICNE</td>\n",
       "      <td>Prague</td>\n",
       "      <td>1204953</td>\n",
       "      <td>12541</td>\n",
       "      <td>805502</td>\n",
       "      <td>39576</td>\n",
       "      <td>12</td>\n",
       "      <td>A</td>\n",
       "      <td>16808.3</td>\n",
       "      <td>643</td>\n",
       "      <td>2.256666</td>\n",
       "      <td>2.595191</td>\n",
       "    </tr>\n",
       "    <tr>\n",
       "      <th>37</th>\n",
       "      <td>junior</td>\n",
       "      <td>7959</td>\n",
       "      <td>OWNER</td>\n",
       "      <td>POPLATEK MESICNE</td>\n",
       "      <td>Prague</td>\n",
       "      <td>1204953</td>\n",
       "      <td>12541</td>\n",
       "      <td>785629</td>\n",
       "      <td>390660</td>\n",
       "      <td>60</td>\n",
       "      <td>C</td>\n",
       "      <td>17265.7</td>\n",
       "      <td>224</td>\n",
       "      <td>2.256666</td>\n",
       "      <td>2.595191</td>\n",
       "    </tr>\n",
       "    <tr>\n",
       "      <th>29</th>\n",
       "      <td>junior</td>\n",
       "      <td>10282</td>\n",
       "      <td>OWNER</td>\n",
       "      <td>POPLATEK TYDNE</td>\n",
       "      <td>Prague</td>\n",
       "      <td>1204953</td>\n",
       "      <td>12541</td>\n",
       "      <td>790619</td>\n",
       "      <td>247728</td>\n",
       "      <td>48</td>\n",
       "      <td>C</td>\n",
       "      <td>11804.2</td>\n",
       "      <td>339</td>\n",
       "      <td>2.256666</td>\n",
       "      <td>2.595191</td>\n",
       "    </tr>\n",
       "    <tr>\n",
       "      <th>30</th>\n",
       "      <td>junior</td>\n",
       "      <td>2592</td>\n",
       "      <td>OWNER</td>\n",
       "      <td>POPLATEK MESICNE</td>\n",
       "      <td>Prague</td>\n",
       "      <td>1204953</td>\n",
       "      <td>12541</td>\n",
       "      <td>805831</td>\n",
       "      <td>71460</td>\n",
       "      <td>36</td>\n",
       "      <td>C</td>\n",
       "      <td>9249.0</td>\n",
       "      <td>228</td>\n",
       "      <td>2.256666</td>\n",
       "      <td>2.595191</td>\n",
       "    </tr>\n",
       "    <tr>\n",
       "      <th>31</th>\n",
       "      <td>classic</td>\n",
       "      <td>8030</td>\n",
       "      <td>OWNER</td>\n",
       "      <td>POPLATEK MESICNE</td>\n",
       "      <td>Prague</td>\n",
       "      <td>1204953</td>\n",
       "      <td>12541</td>\n",
       "      <td>670719</td>\n",
       "      <td>100260</td>\n",
       "      <td>60</td>\n",
       "      <td>C</td>\n",
       "      <td>1671.0</td>\n",
       "      <td>186</td>\n",
       "      <td>2.256666</td>\n",
       "      <td>2.595191</td>\n",
       "    </tr>\n",
       "    <tr>\n",
       "      <th>32</th>\n",
       "      <td>classic</td>\n",
       "      <td>2267</td>\n",
       "      <td>OWNER</td>\n",
       "      <td>POPLATEK MESICNE</td>\n",
       "      <td>Prague</td>\n",
       "      <td>1204953</td>\n",
       "      <td>12541</td>\n",
       "      <td>665410</td>\n",
       "      <td>37944</td>\n",
       "      <td>36</td>\n",
       "      <td>C</td>\n",
       "      <td>1054.0</td>\n",
       "      <td>169</td>\n",
       "      <td>2.256666</td>\n",
       "      <td>2.595191</td>\n",
       "    </tr>\n",
       "    <tr>\n",
       "      <th>33</th>\n",
       "      <td>classic</td>\n",
       "      <td>9933</td>\n",
       "      <td>OWNER</td>\n",
       "      <td>POPLATEK MESICNE</td>\n",
       "      <td>Prague</td>\n",
       "      <td>1204953</td>\n",
       "      <td>12541</td>\n",
       "      <td>411015</td>\n",
       "      <td>140400</td>\n",
       "      <td>36</td>\n",
       "      <td>A</td>\n",
       "      <td>3900.5</td>\n",
       "      <td>442</td>\n",
       "      <td>2.256666</td>\n",
       "      <td>2.595191</td>\n",
       "    </tr>\n",
       "    <tr>\n",
       "      <th>34</th>\n",
       "      <td>classic</td>\n",
       "      <td>13694</td>\n",
       "      <td>OWNER</td>\n",
       "      <td>POPLATEK TYDNE</td>\n",
       "      <td>Prague</td>\n",
       "      <td>1204953</td>\n",
       "      <td>12541</td>\n",
       "      <td>765120</td>\n",
       "      <td>44940</td>\n",
       "      <td>12</td>\n",
       "      <td>A</td>\n",
       "      <td>3744.7</td>\n",
       "      <td>152</td>\n",
       "      <td>2.256666</td>\n",
       "      <td>2.595191</td>\n",
       "    </tr>\n",
       "    <tr>\n",
       "      <th>36</th>\n",
       "      <td>classic</td>\n",
       "      <td>13134</td>\n",
       "      <td>OWNER</td>\n",
       "      <td>POPLATEK MESICNE</td>\n",
       "      <td>Prague</td>\n",
       "      <td>1204953</td>\n",
       "      <td>12541</td>\n",
       "      <td>626103</td>\n",
       "      <td>197808</td>\n",
       "      <td>24</td>\n",
       "      <td>C</td>\n",
       "      <td>14911.8</td>\n",
       "      <td>116</td>\n",
       "      <td>2.256666</td>\n",
       "      <td>2.595191</td>\n",
       "    </tr>\n",
       "    <tr>\n",
       "      <th>42</th>\n",
       "      <td>classic</td>\n",
       "      <td>5563</td>\n",
       "      <td>OWNER</td>\n",
       "      <td>POPLATEK MESICNE</td>\n",
       "      <td>Prague</td>\n",
       "      <td>1204953</td>\n",
       "      <td>12541</td>\n",
       "      <td>760101</td>\n",
       "      <td>66696</td>\n",
       "      <td>24</td>\n",
       "      <td>C</td>\n",
       "      <td>15038.7</td>\n",
       "      <td>124</td>\n",
       "      <td>2.256666</td>\n",
       "      <td>2.595191</td>\n",
       "    </tr>\n",
       "  </tbody>\n",
       "</table>\n",
       "</div>"
      ],
      "text/plain": [
       "   type_card  client_id type_client         frequency      A3       A4    A11  \\\n",
       "28    junior      11409       OWNER  POPLATEK MESICNE  Prague  1204953  12541   \n",
       "37    junior       7959       OWNER  POPLATEK MESICNE  Prague  1204953  12541   \n",
       "29    junior      10282       OWNER    POPLATEK TYDNE  Prague  1204953  12541   \n",
       "30    junior       2592       OWNER  POPLATEK MESICNE  Prague  1204953  12541   \n",
       "31   classic       8030       OWNER  POPLATEK MESICNE  Prague  1204953  12541   \n",
       "32   classic       2267       OWNER  POPLATEK MESICNE  Prague  1204953  12541   \n",
       "33   classic       9933       OWNER  POPLATEK MESICNE  Prague  1204953  12541   \n",
       "34   classic      13694       OWNER    POPLATEK TYDNE  Prague  1204953  12541   \n",
       "36   classic      13134       OWNER  POPLATEK MESICNE  Prague  1204953  12541   \n",
       "42   classic       5563       OWNER  POPLATEK MESICNE  Prague  1204953  12541   \n",
       "\n",
       "    birth_number  amount  duration status  sum_amount  unique_trans     Z_A11  \\\n",
       "28        805502   39576        12      A     16808.3           643  2.256666   \n",
       "37        785629  390660        60      C     17265.7           224  2.256666   \n",
       "29        790619  247728        48      C     11804.2           339  2.256666   \n",
       "30        805831   71460        36      C      9249.0           228  2.256666   \n",
       "31        670719  100260        60      C      1671.0           186  2.256666   \n",
       "32        665410   37944        36      C      1054.0           169  2.256666   \n",
       "33        411015  140400        36      A      3900.5           442  2.256666   \n",
       "34        765120   44940        12      A      3744.7           152  2.256666   \n",
       "36        626103  197808        24      C     14911.8           116  2.256666   \n",
       "42        760101   66696        24      C     15038.7           124  2.256666   \n",
       "\n",
       "        Z_A4  \n",
       "28  2.595191  \n",
       "37  2.595191  \n",
       "29  2.595191  \n",
       "30  2.595191  \n",
       "31  2.595191  \n",
       "32  2.595191  \n",
       "33  2.595191  \n",
       "34  2.595191  \n",
       "36  2.595191  \n",
       "42  2.595191  "
      ]
     },
     "execution_count": 77,
     "metadata": {},
     "output_type": "execute_result"
    }
   ],
   "source": [
    "df_table_miner.sort_values('Z_A4').tail(10)"
   ]
  },
  {
   "cell_type": "code",
   "execution_count": 78,
   "metadata": {},
   "outputs": [
    {
     "data": {
      "text/plain": [
       "type_card       0\n",
       "client_id       0\n",
       "type_client     0\n",
       "frequency       0\n",
       "A3              0\n",
       "A4              0\n",
       "A11             0\n",
       "birth_number    0\n",
       "amount          0\n",
       "duration        0\n",
       "status          0\n",
       "sum_amount      0\n",
       "unique_trans    0\n",
       "Z_A11           0\n",
       "Z_A4            0\n",
       "dtype: int64"
      ]
     },
     "execution_count": 78,
     "metadata": {},
     "output_type": "execute_result"
    }
   ],
   "source": [
    "df_table_miner.isna().sum()"
   ]
  },
  {
   "cell_type": "markdown",
   "metadata": {},
   "source": [
    "<p>Se puede ver que ningun valor supera las 3 desviaciones estandares, por lo que la limpieza por normalizacion no remueve ningun punto</p>"
   ]
  },
  {
   "cell_type": "markdown",
   "metadata": {},
   "source": [
    "<h3 style = 'color:orange'>One hot encoder</h3>"
   ]
  },
  {
   "cell_type": "code",
   "execution_count": 46,
   "metadata": {},
   "outputs": [],
   "source": [
    "df_all_variables = pd.get_dummies(df_table_miner, columns=['frequency','A3','type_client','status'])"
   ]
  },
  {
   "cell_type": "markdown",
   "metadata": {},
   "source": [
    "<p>Finalmente es tiene la tabla desnormalizada para un posterior analisis de minado, donde la variable target es el tipo de tarjeta que en este caso esta representado por la variable type_card</p>"
   ]
  },
  {
   "cell_type": "code",
   "execution_count": 47,
   "metadata": {},
   "outputs": [
    {
     "name": "stdout",
     "output_type": "stream",
     "text": [
      "<class 'pandas.core.frame.DataFrame'>\n",
      "Int64Index: 170 entries, 0 to 169\n",
      "Data columns (total 26 columns):\n",
      " #   Column                        Non-Null Count  Dtype  \n",
      "---  ------                        --------------  -----  \n",
      " 0   type_card                     170 non-null    object \n",
      " 1   client_id                     170 non-null    int64  \n",
      " 2   A4                            170 non-null    int64  \n",
      " 3   A11                           170 non-null    int64  \n",
      " 4   birth_number                  170 non-null    int64  \n",
      " 5   amount                        170 non-null    int64  \n",
      " 6   duration                      170 non-null    int64  \n",
      " 7   sum_amount                    170 non-null    float64\n",
      " 8   unique_trans                  170 non-null    int64  \n",
      " 9   Z_A11                         170 non-null    float64\n",
      " 10  frequency_POPLATEK MESICNE    170 non-null    uint8  \n",
      " 11  frequency_POPLATEK PO OBRATU  170 non-null    uint8  \n",
      " 12  frequency_POPLATEK TYDNE      170 non-null    uint8  \n",
      " 13  A3_Prague                     170 non-null    uint8  \n",
      " 14  A3_central Bohemia            170 non-null    uint8  \n",
      " 15  A3_east Bohemia               170 non-null    uint8  \n",
      " 16  A3_north Bohemia              170 non-null    uint8  \n",
      " 17  A3_north Moravia              170 non-null    uint8  \n",
      " 18  A3_south Bohemia              170 non-null    uint8  \n",
      " 19  A3_south Moravia              170 non-null    uint8  \n",
      " 20  A3_west Bohemia               170 non-null    uint8  \n",
      " 21  type_client_OWNER             170 non-null    uint8  \n",
      " 22  status_A                      170 non-null    uint8  \n",
      " 23  status_B                      170 non-null    uint8  \n",
      " 24  status_C                      170 non-null    uint8  \n",
      " 25  status_D                      170 non-null    uint8  \n",
      "dtypes: float64(2), int64(7), object(1), uint8(16)\n",
      "memory usage: 17.3+ KB\n"
     ]
    }
   ],
   "source": [
    "df_all_variables.info()"
   ]
  },
  {
   "cell_type": "code",
   "execution_count": 80,
   "metadata": {},
   "outputs": [
    {
     "data": {
      "text/plain": [
       "Index(['type_card', 'client_id', 'A4', 'A11', 'birth_number', 'amount',\n",
       "       'duration', 'sum_amount', 'unique_trans', 'Z_A11',\n",
       "       'frequency_POPLATEK MESICNE', 'frequency_POPLATEK PO OBRATU',\n",
       "       'frequency_POPLATEK TYDNE', 'A3_Prague', 'A3_central Bohemia',\n",
       "       'A3_east Bohemia', 'A3_north Bohemia', 'A3_north Moravia',\n",
       "       'A3_south Bohemia', 'A3_south Moravia', 'A3_west Bohemia',\n",
       "       'type_client_OWNER', 'status_A', 'status_B', 'status_C', 'status_D'],\n",
       "      dtype='object')"
      ]
     },
     "execution_count": 80,
     "metadata": {},
     "output_type": "execute_result"
    }
   ],
   "source": [
    "df_all_variables.columns"
   ]
  },
  {
   "cell_type": "code",
   "execution_count": 81,
   "metadata": {},
   "outputs": [
    {
     "data": {
      "text/html": [
       "<div>\n",
       "<style scoped>\n",
       "    .dataframe tbody tr th:only-of-type {\n",
       "        vertical-align: middle;\n",
       "    }\n",
       "\n",
       "    .dataframe tbody tr th {\n",
       "        vertical-align: top;\n",
       "    }\n",
       "\n",
       "    .dataframe thead th {\n",
       "        text-align: right;\n",
       "    }\n",
       "</style>\n",
       "<table border=\"1\" class=\"dataframe\">\n",
       "  <thead>\n",
       "    <tr style=\"text-align: right;\">\n",
       "      <th></th>\n",
       "      <th>0</th>\n",
       "    </tr>\n",
       "  </thead>\n",
       "  <tbody>\n",
       "    <tr>\n",
       "      <th>type_card</th>\n",
       "      <td>classic</td>\n",
       "    </tr>\n",
       "    <tr>\n",
       "      <th>A4</th>\n",
       "      <td>323870</td>\n",
       "    </tr>\n",
       "    <tr>\n",
       "      <th>A11</th>\n",
       "      <td>10673</td>\n",
       "    </tr>\n",
       "    <tr>\n",
       "      <th>birth_number</th>\n",
       "      <td>685128</td>\n",
       "    </tr>\n",
       "    <tr>\n",
       "      <th>amount</th>\n",
       "      <td>51696</td>\n",
       "    </tr>\n",
       "    <tr>\n",
       "      <th>duration</th>\n",
       "      <td>24</td>\n",
       "    </tr>\n",
       "    <tr>\n",
       "      <th>sum_amount</th>\n",
       "      <td>2153.8</td>\n",
       "    </tr>\n",
       "    <tr>\n",
       "      <th>unique_trans</th>\n",
       "      <td>500</td>\n",
       "    </tr>\n",
       "    <tr>\n",
       "      <th>frequency_POPLATEK MESICNE</th>\n",
       "      <td>1</td>\n",
       "    </tr>\n",
       "    <tr>\n",
       "      <th>frequency_POPLATEK PO OBRATU</th>\n",
       "      <td>0</td>\n",
       "    </tr>\n",
       "    <tr>\n",
       "      <th>frequency_POPLATEK TYDNE</th>\n",
       "      <td>0</td>\n",
       "    </tr>\n",
       "    <tr>\n",
       "      <th>A3_Prague</th>\n",
       "      <td>0</td>\n",
       "    </tr>\n",
       "    <tr>\n",
       "      <th>A3_central Bohemia</th>\n",
       "      <td>0</td>\n",
       "    </tr>\n",
       "    <tr>\n",
       "      <th>A3_east Bohemia</th>\n",
       "      <td>0</td>\n",
       "    </tr>\n",
       "    <tr>\n",
       "      <th>A3_north Bohemia</th>\n",
       "      <td>0</td>\n",
       "    </tr>\n",
       "    <tr>\n",
       "      <th>A3_north Moravia</th>\n",
       "      <td>1</td>\n",
       "    </tr>\n",
       "    <tr>\n",
       "      <th>A3_south Bohemia</th>\n",
       "      <td>0</td>\n",
       "    </tr>\n",
       "    <tr>\n",
       "      <th>A3_south Moravia</th>\n",
       "      <td>0</td>\n",
       "    </tr>\n",
       "    <tr>\n",
       "      <th>A3_west Bohemia</th>\n",
       "      <td>0</td>\n",
       "    </tr>\n",
       "    <tr>\n",
       "      <th>type_client_OWNER</th>\n",
       "      <td>1</td>\n",
       "    </tr>\n",
       "    <tr>\n",
       "      <th>status_A</th>\n",
       "      <td>1</td>\n",
       "    </tr>\n",
       "    <tr>\n",
       "      <th>status_B</th>\n",
       "      <td>0</td>\n",
       "    </tr>\n",
       "    <tr>\n",
       "      <th>status_C</th>\n",
       "      <td>0</td>\n",
       "    </tr>\n",
       "    <tr>\n",
       "      <th>status_D</th>\n",
       "      <td>0</td>\n",
       "    </tr>\n",
       "  </tbody>\n",
       "</table>\n",
       "</div>"
      ],
      "text/plain": [
       "                                    0\n",
       "type_card                     classic\n",
       "A4                             323870\n",
       "A11                             10673\n",
       "birth_number                   685128\n",
       "amount                          51696\n",
       "duration                           24\n",
       "sum_amount                     2153.8\n",
       "unique_trans                      500\n",
       "frequency_POPLATEK MESICNE          1\n",
       "frequency_POPLATEK PO OBRATU        0\n",
       "frequency_POPLATEK TYDNE            0\n",
       "A3_Prague                           0\n",
       "A3_central Bohemia                  0\n",
       "A3_east Bohemia                     0\n",
       "A3_north Bohemia                    0\n",
       "A3_north Moravia                    1\n",
       "A3_south Bohemia                    0\n",
       "A3_south Moravia                    0\n",
       "A3_west Bohemia                     0\n",
       "type_client_OWNER                   1\n",
       "status_A                            1\n",
       "status_B                            0\n",
       "status_C                            0\n",
       "status_D                            0"
      ]
     },
     "execution_count": 81,
     "metadata": {},
     "output_type": "execute_result"
    }
   ],
   "source": [
    "df_all_variables.drop(['client_id','Z_A11'], axis = 1).head(1).T"
   ]
  },
  {
   "cell_type": "markdown",
   "metadata": {},
   "source": [
    "<p>Se estudia la correlacion entre las variables por medio de un mapa de calor para ver si es que no se presentan casos de multicolinealidad</p>"
   ]
  },
  {
   "cell_type": "code",
   "execution_count": 48,
   "metadata": {},
   "outputs": [
    {
     "data": {
      "text/plain": [
       "<AxesSubplot:>"
      ]
     },
     "execution_count": 48,
     "metadata": {},
     "output_type": "execute_result"
    },
    {
     "data": {
      "image/png": "[encoded data removed]",
      "text/plain": [
       "<Figure size 432x288 with 2 Axes>"
      ]
     },
     "metadata": {
      "needs_background": "light"
     },
     "output_type": "display_data"
    }
   ],
   "source": [
    "sns.heatmap(df_all_variables.drop('client_id', axis = 1).select_dtypes(include = np.number).corr()) "
   ]
  },
  {
   "cell_type": "code",
   "execution_count": 61,
   "metadata": {},
   "outputs": [],
   "source": []
  },
  {
   "cell_type": "code",
   "execution_count": 65,
   "metadata": {},
   "outputs": [],
   "source": [
    "skew_list, kurtosis_list = [],[]\n",
    "var_list = ['A4','A11','sum_amount','unique_trans','duration']\n",
    "for var_study in var_list:\n",
    "    skew_var,kurtosis_var = skew(df_table_miner[var_study]),kurtosis(df_table_miner[var_study])\n",
    "    skew_list.append(skew_var)\n",
    "    kurtosis_list.append(kurtosis_var)\n",
    "df_all_descritive_stats = pd.DataFrame({'VARIABLE_STUDY':var_list, 'SKEW':skew_list,'KURTOSIS':kurtosis_list})\n",
    "    "
   ]
  },
  {
   "cell_type": "code",
   "execution_count": 66,
   "metadata": {},
   "outputs": [
    {
     "data": {
      "text/html": [
       "<div>\n",
       "<style scoped>\n",
       "    .dataframe tbody tr th:only-of-type {\n",
       "        vertical-align: middle;\n",
       "    }\n",
       "\n",
       "    .dataframe tbody tr th {\n",
       "        vertical-align: top;\n",
       "    }\n",
       "\n",
       "    .dataframe thead th {\n",
       "        text-align: right;\n",
       "    }\n",
       "</style>\n",
       "<table border=\"1\" class=\"dataframe\">\n",
       "  <thead>\n",
       "    <tr style=\"text-align: right;\">\n",
       "      <th></th>\n",
       "      <th>VARIABLE_STUDY</th>\n",
       "      <th>SKEW</th>\n",
       "      <th>KURTOSIS</th>\n",
       "    </tr>\n",
       "  </thead>\n",
       "  <tbody>\n",
       "    <tr>\n",
       "      <th>0</th>\n",
       "      <td>A4</td>\n",
       "      <td>2.075869</td>\n",
       "      <td>2.648609</td>\n",
       "    </tr>\n",
       "    <tr>\n",
       "      <th>1</th>\n",
       "      <td>A11</td>\n",
       "      <td>1.226921</td>\n",
       "      <td>0.470618</td>\n",
       "    </tr>\n",
       "    <tr>\n",
       "      <th>2</th>\n",
       "      <td>sum_amount</td>\n",
       "      <td>0.543308</td>\n",
       "      <td>-0.651425</td>\n",
       "    </tr>\n",
       "    <tr>\n",
       "      <th>3</th>\n",
       "      <td>unique_trans</td>\n",
       "      <td>0.616315</td>\n",
       "      <td>-0.287758</td>\n",
       "    </tr>\n",
       "    <tr>\n",
       "      <th>4</th>\n",
       "      <td>duration</td>\n",
       "      <td>0.008733</td>\n",
       "      <td>-1.347971</td>\n",
       "    </tr>\n",
       "  </tbody>\n",
       "</table>\n",
       "</div>"
      ],
      "text/plain": [
       "  VARIABLE_STUDY      SKEW  KURTOSIS\n",
       "0             A4  2.075869  2.648609\n",
       "1            A11  1.226921  0.470618\n",
       "2     sum_amount  0.543308 -0.651425\n",
       "3   unique_trans  0.616315 -0.287758\n",
       "4       duration  0.008733 -1.347971"
      ]
     },
     "execution_count": 66,
     "metadata": {},
     "output_type": "execute_result"
    }
   ],
   "source": [
    "df_all_descritive_stats"
   ]
  }
 ],
 "metadata": {
  "interpreter": {
   "hash": "76e50d6d8c824c379392f53da10b649387c608035b85df940bae4d567d72c8df"
  },
  "kernelspec": {
   "display_name": "Python 3.8.8 ('base')",
   "language": "python",
   "name": "python3"
  },
  "language_info": {
   "codemirror_mode": {
    "name": "ipython",
    "version": 3
   },
   "file_extension": ".py",
   "mimetype": "text/x-python",
   "name": "python",
   "nbconvert_exporter": "python",
   "pygments_lexer": "ipython3",
   "version": "3.8.8"
  },
  "orig_nbformat": 4
 },
 "nbformat": 4,
 "nbformat_minor": 2
}
