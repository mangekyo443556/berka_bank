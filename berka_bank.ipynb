{
 "cells": [
  {
   "cell_type": "code",
   "execution_count": 3,
   "metadata": {},
   "outputs": [],
   "source": [
    "import pandas as pd\n",
    "import numpy as np\n",
    "import cx_Oracle\n",
    "import warnings\n",
    "warnings.filterwarnings('ignore')"
   ]
  },
  {
   "cell_type": "code",
   "execution_count": 2,
   "metadata": {},
   "outputs": [
    {
     "name": "stderr",
     "output_type": "stream",
     "text": [
      "c:\\Users\\cchiri\\Anaconda3\\lib\\site-packages\\IPython\\core\\interactiveshell.py:3165: DtypeWarning: Columns (8) have mixed types.Specify dtype option on import or set low_memory=False.\n",
      "  has_raised = await self.run_ast_nodes(code_ast.body, cell_name,\n"
     ]
    }
   ],
   "source": [
    "df_account = pd.read_csv('account.asc', sep=';')\n",
    "df_card = pd.read_csv('card.asc', sep=';')\n",
    "df_client = pd.read_csv('client.asc', sep=';')\n",
    "df_disp = pd.read_csv('disp.asc', sep=';')\n",
    "df_district = pd.read_csv('district.asc', sep=';')\n",
    "df_loan= pd.read_csv('loan.asc', sep=';')\n",
    "df_order= pd.read_csv('order.asc', sep=';')\n",
    "df_trans = pd.read_csv('trans.asc', sep=';')"
   ]
  }
 ],
 "metadata": {
  "interpreter": {
   "hash": "76e50d6d8c824c379392f53da10b649387c608035b85df940bae4d567d72c8df"
  },
  "kernelspec": {
   "display_name": "Python 3.8.8 ('base')",
   "language": "python",
   "name": "python3"
  },
  "language_info": {
   "codemirror_mode": {
    "name": "ipython",
    "version": 3
   },
   "file_extension": ".py",
   "mimetype": "text/x-python",
   "name": "python",
   "nbconvert_exporter": "python",
   "pygments_lexer": "ipython3",
   "version": "3.8.8"
  },
  "orig_nbformat": 4
 },
 "nbformat": 4,
 "nbformat_minor": 2
}
